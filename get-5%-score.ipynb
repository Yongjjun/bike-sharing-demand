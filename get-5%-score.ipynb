{
 "cells": [
  {
   "cell_type": "code",
   "execution_count": 1,
   "metadata": {
    "_cell_guid": "b1076dfc-b9ad-4769-8c92-a6c4dae69d19",
    "_uuid": "8f2839f25d086af736a60e9eeb907d3b93b6e0e5",
    "execution": {
     "iopub.execute_input": "2021-01-07T01:11:11.252537Z",
     "iopub.status.busy": "2021-01-07T01:11:11.250854Z",
     "iopub.status.idle": "2021-01-07T01:11:12.616379Z",
     "shell.execute_reply": "2021-01-07T01:11:12.615579Z"
    },
    "papermill": {
     "duration": 1.393204,
     "end_time": "2021-01-07T01:11:12.616509",
     "exception": false,
     "start_time": "2021-01-07T01:11:11.223305",
     "status": "completed"
    },
    "tags": []
   },
   "outputs": [],
   "source": [
    "import pandas as pd\n",
    "import numpy as np\n",
    "\n",
    "import matplotlib as mpl\n",
    "import matplotlib.pyplot as plt\n",
    "import seaborn as sns\n",
    "from sklearn.model_selection import GridSearchCV, train_test_split\n",
    "\n",
    "# 노트북 안에 그래프를 그리기 위해\n",
    "%matplotlib inline\n",
    "\n",
    "# 그래프에서 격자로 숫자 범위가 눈에 잘 띄도록 ggplot 스타일을 사용\n",
    "plt.style.use('ggplot')\n",
    "\n",
    "# 그래프에서 마이너스 폰트 깨지는 문제에 대한 대처\n",
    "mpl.rcParams['axes.unicode_minus'] = False\n",
    "\n",
    "import warnings\n",
    "warnings.filterwarnings('ignore')"
   ]
  },
  {
   "cell_type": "code",
   "execution_count": 2,
   "metadata": {
    "_cell_guid": "79c7e3d0-c299-4dcb-8224-4455121ee9b0",
    "_uuid": "d629ff2d2480ee46fbb7e2d37f6b5fab8052498a",
    "execution": {
     "iopub.execute_input": "2021-01-07T01:11:12.661585Z",
     "iopub.status.busy": "2021-01-07T01:11:12.660886Z",
     "iopub.status.idle": "2021-01-07T01:11:12.718245Z",
     "shell.execute_reply": "2021-01-07T01:11:12.717698Z"
    },
    "papermill": {
     "duration": 0.083177,
     "end_time": "2021-01-07T01:11:12.718361",
     "exception": false,
     "start_time": "2021-01-07T01:11:12.635184",
     "status": "completed"
    },
    "tags": []
   },
   "outputs": [
    {
     "data": {
      "text/plain": [
       "(10886, 12)"
      ]
     },
     "execution_count": 2,
     "metadata": {},
     "output_type": "execute_result"
    }
   ],
   "source": [
    "train = pd.read_csv(\"../input/bike-sharing-demand/train.csv\", parse_dates=[\"datetime\"])\n",
    "train.shape"
   ]
  },
  {
   "cell_type": "code",
   "execution_count": 3,
   "metadata": {
    "execution": {
     "iopub.execute_input": "2021-01-07T01:11:12.762261Z",
     "iopub.status.busy": "2021-01-07T01:11:12.761577Z",
     "iopub.status.idle": "2021-01-07T01:11:12.789627Z",
     "shell.execute_reply": "2021-01-07T01:11:12.788517Z"
    },
    "papermill": {
     "duration": 0.053106,
     "end_time": "2021-01-07T01:11:12.789752",
     "exception": false,
     "start_time": "2021-01-07T01:11:12.736646",
     "status": "completed"
    },
    "tags": []
   },
   "outputs": [
    {
     "data": {
      "text/plain": [
       "(6493, 9)"
      ]
     },
     "execution_count": 3,
     "metadata": {},
     "output_type": "execute_result"
    }
   ],
   "source": [
    "test = pd.read_csv(\"../input/bike-sharing-demand/test.csv\", parse_dates=[\"datetime\"])\n",
    "test.shape"
   ]
  },
  {
   "cell_type": "code",
   "execution_count": 4,
   "metadata": {
    "execution": {
     "iopub.execute_input": "2021-01-07T01:11:12.837947Z",
     "iopub.status.busy": "2021-01-07T01:11:12.837076Z",
     "iopub.status.idle": "2021-01-07T01:11:12.852823Z",
     "shell.execute_reply": "2021-01-07T01:11:12.853296Z"
    },
    "papermill": {
     "duration": 0.045023,
     "end_time": "2021-01-07T01:11:12.853446",
     "exception": false,
     "start_time": "2021-01-07T01:11:12.808423",
     "status": "completed"
    },
    "tags": []
   },
   "outputs": [
    {
     "data": {
      "text/plain": [
       "(10886, 16)"
      ]
     },
     "execution_count": 4,
     "metadata": {},
     "output_type": "execute_result"
    }
   ],
   "source": [
    "train[\"year\"] = train[\"datetime\"].dt.year\n",
    "train[\"month\"] = train[\"datetime\"].dt.month\n",
    "train[\"hour\"] = train[\"datetime\"].dt.hour\n",
    "train[\"dayofweek\"] = train[\"datetime\"].dt.dayofweek\n",
    "train.shape"
   ]
  },
  {
   "cell_type": "code",
   "execution_count": 5,
   "metadata": {
    "execution": {
     "iopub.execute_input": "2021-01-07T01:11:12.900133Z",
     "iopub.status.busy": "2021-01-07T01:11:12.899117Z",
     "iopub.status.idle": "2021-01-07T01:11:12.910415Z",
     "shell.execute_reply": "2021-01-07T01:11:12.910983Z"
    },
    "papermill": {
     "duration": 0.038826,
     "end_time": "2021-01-07T01:11:12.911141",
     "exception": false,
     "start_time": "2021-01-07T01:11:12.872315",
     "status": "completed"
    },
    "tags": []
   },
   "outputs": [
    {
     "data": {
      "text/plain": [
       "(6493, 13)"
      ]
     },
     "execution_count": 5,
     "metadata": {},
     "output_type": "execute_result"
    }
   ],
   "source": [
    "test[\"year\"] = test[\"datetime\"].dt.year\n",
    "test[\"month\"] = test[\"datetime\"].dt.month\n",
    "test[\"hour\"] = test[\"datetime\"].dt.hour\n",
    "test[\"dayofweek\"] = test[\"datetime\"].dt.dayofweek\n",
    "test.shape"
   ]
  },
  {
   "cell_type": "code",
   "execution_count": 6,
   "metadata": {
    "execution": {
     "iopub.execute_input": "2021-01-07T01:11:12.954442Z",
     "iopub.status.busy": "2021-01-07T01:11:12.953787Z",
     "iopub.status.idle": "2021-01-07T01:11:12.958268Z",
     "shell.execute_reply": "2021-01-07T01:11:12.958809Z"
    },
    "papermill": {
     "duration": 0.028293,
     "end_time": "2021-01-07T01:11:12.958953",
     "exception": false,
     "start_time": "2021-01-07T01:11:12.930660",
     "status": "completed"
    },
    "tags": []
   },
   "outputs": [],
   "source": [
    "# 연속형 feature와 범주형 feature\n",
    "# 범주형 feature의 type을 category로 변경 해 준다.\n",
    "categorical_feature_names = [\"season\",\"holiday\",\"workingday\",\"weather\",\n",
    "                             \"dayofweek\",\"month\",\"year\",\"hour\"]"
   ]
  },
  {
   "cell_type": "code",
   "execution_count": 7,
   "metadata": {
    "execution": {
     "iopub.execute_input": "2021-01-07T01:11:13.002515Z",
     "iopub.status.busy": "2021-01-07T01:11:13.001811Z",
     "iopub.status.idle": "2021-01-07T01:11:13.008169Z",
     "shell.execute_reply": "2021-01-07T01:11:13.008734Z"
    },
    "papermill": {
     "duration": 0.030021,
     "end_time": "2021-01-07T01:11:13.008894",
     "exception": false,
     "start_time": "2021-01-07T01:11:12.978873",
     "status": "completed"
    },
    "tags": []
   },
   "outputs": [
    {
     "data": {
      "text/plain": [
       "['season',\n",
       " 'weather',\n",
       " 'temp',\n",
       " 'atemp',\n",
       " 'humidity',\n",
       " 'year',\n",
       " 'hour',\n",
       " 'dayofweek',\n",
       " 'holiday',\n",
       " 'workingday']"
      ]
     },
     "execution_count": 7,
     "metadata": {},
     "output_type": "execute_result"
    }
   ],
   "source": [
    "feature_names = [\"season\", \"weather\", \"temp\", \"atemp\", \"humidity\",\n",
    "                 \"year\", \"hour\", \"dayofweek\", \"holiday\", \"workingday\"\n",
    "                ]\n",
    "\n",
    "feature_names"
   ]
  },
  {
   "cell_type": "code",
   "execution_count": 8,
   "metadata": {
    "execution": {
     "iopub.execute_input": "2021-01-07T01:11:13.053951Z",
     "iopub.status.busy": "2021-01-07T01:11:13.053207Z",
     "iopub.status.idle": "2021-01-07T01:11:13.081541Z",
     "shell.execute_reply": "2021-01-07T01:11:13.082347Z"
    },
    "papermill": {
     "duration": 0.052282,
     "end_time": "2021-01-07T01:11:13.082563",
     "exception": false,
     "start_time": "2021-01-07T01:11:13.030281",
     "status": "completed"
    },
    "tags": []
   },
   "outputs": [
    {
     "name": "stdout",
     "output_type": "stream",
     "text": [
      "(10886, 10)\n"
     ]
    },
    {
     "data": {
      "text/html": [
       "<div>\n",
       "<style scoped>\n",
       "    .dataframe tbody tr th:only-of-type {\n",
       "        vertical-align: middle;\n",
       "    }\n",
       "\n",
       "    .dataframe tbody tr th {\n",
       "        vertical-align: top;\n",
       "    }\n",
       "\n",
       "    .dataframe thead th {\n",
       "        text-align: right;\n",
       "    }\n",
       "</style>\n",
       "<table border=\"1\" class=\"dataframe\">\n",
       "  <thead>\n",
       "    <tr style=\"text-align: right;\">\n",
       "      <th></th>\n",
       "      <th>season</th>\n",
       "      <th>weather</th>\n",
       "      <th>temp</th>\n",
       "      <th>atemp</th>\n",
       "      <th>humidity</th>\n",
       "      <th>year</th>\n",
       "      <th>hour</th>\n",
       "      <th>dayofweek</th>\n",
       "      <th>holiday</th>\n",
       "      <th>workingday</th>\n",
       "    </tr>\n",
       "  </thead>\n",
       "  <tbody>\n",
       "    <tr>\n",
       "      <th>0</th>\n",
       "      <td>1</td>\n",
       "      <td>1</td>\n",
       "      <td>9.84</td>\n",
       "      <td>14.395</td>\n",
       "      <td>81</td>\n",
       "      <td>2011</td>\n",
       "      <td>0</td>\n",
       "      <td>5</td>\n",
       "      <td>0</td>\n",
       "      <td>0</td>\n",
       "    </tr>\n",
       "    <tr>\n",
       "      <th>1</th>\n",
       "      <td>1</td>\n",
       "      <td>1</td>\n",
       "      <td>9.02</td>\n",
       "      <td>13.635</td>\n",
       "      <td>80</td>\n",
       "      <td>2011</td>\n",
       "      <td>1</td>\n",
       "      <td>5</td>\n",
       "      <td>0</td>\n",
       "      <td>0</td>\n",
       "    </tr>\n",
       "    <tr>\n",
       "      <th>2</th>\n",
       "      <td>1</td>\n",
       "      <td>1</td>\n",
       "      <td>9.02</td>\n",
       "      <td>13.635</td>\n",
       "      <td>80</td>\n",
       "      <td>2011</td>\n",
       "      <td>2</td>\n",
       "      <td>5</td>\n",
       "      <td>0</td>\n",
       "      <td>0</td>\n",
       "    </tr>\n",
       "    <tr>\n",
       "      <th>3</th>\n",
       "      <td>1</td>\n",
       "      <td>1</td>\n",
       "      <td>9.84</td>\n",
       "      <td>14.395</td>\n",
       "      <td>75</td>\n",
       "      <td>2011</td>\n",
       "      <td>3</td>\n",
       "      <td>5</td>\n",
       "      <td>0</td>\n",
       "      <td>0</td>\n",
       "    </tr>\n",
       "    <tr>\n",
       "      <th>4</th>\n",
       "      <td>1</td>\n",
       "      <td>1</td>\n",
       "      <td>9.84</td>\n",
       "      <td>14.395</td>\n",
       "      <td>75</td>\n",
       "      <td>2011</td>\n",
       "      <td>4</td>\n",
       "      <td>5</td>\n",
       "      <td>0</td>\n",
       "      <td>0</td>\n",
       "    </tr>\n",
       "  </tbody>\n",
       "</table>\n",
       "</div>"
      ],
      "text/plain": [
       "   season  weather  temp   atemp  humidity  year  hour  dayofweek  holiday  \\\n",
       "0       1        1  9.84  14.395        81  2011     0          5        0   \n",
       "1       1        1  9.02  13.635        80  2011     1          5        0   \n",
       "2       1        1  9.02  13.635        80  2011     2          5        0   \n",
       "3       1        1  9.84  14.395        75  2011     3          5        0   \n",
       "4       1        1  9.84  14.395        75  2011     4          5        0   \n",
       "\n",
       "   workingday  \n",
       "0           0  \n",
       "1           0  \n",
       "2           0  \n",
       "3           0  \n",
       "4           0  "
      ]
     },
     "execution_count": 8,
     "metadata": {},
     "output_type": "execute_result"
    }
   ],
   "source": [
    "X_train = train[feature_names]\n",
    "\n",
    "print(X_train.shape)\n",
    "X_train.head()"
   ]
  },
  {
   "cell_type": "code",
   "execution_count": 9,
   "metadata": {
    "execution": {
     "iopub.execute_input": "2021-01-07T01:11:13.133111Z",
     "iopub.status.busy": "2021-01-07T01:11:13.132425Z",
     "iopub.status.idle": "2021-01-07T01:11:13.148899Z",
     "shell.execute_reply": "2021-01-07T01:11:13.149834Z"
    },
    "papermill": {
     "duration": 0.045017,
     "end_time": "2021-01-07T01:11:13.150057",
     "exception": false,
     "start_time": "2021-01-07T01:11:13.105040",
     "status": "completed"
    },
    "tags": []
   },
   "outputs": [
    {
     "name": "stdout",
     "output_type": "stream",
     "text": [
      "(6493, 10)\n"
     ]
    },
    {
     "data": {
      "text/html": [
       "<div>\n",
       "<style scoped>\n",
       "    .dataframe tbody tr th:only-of-type {\n",
       "        vertical-align: middle;\n",
       "    }\n",
       "\n",
       "    .dataframe tbody tr th {\n",
       "        vertical-align: top;\n",
       "    }\n",
       "\n",
       "    .dataframe thead th {\n",
       "        text-align: right;\n",
       "    }\n",
       "</style>\n",
       "<table border=\"1\" class=\"dataframe\">\n",
       "  <thead>\n",
       "    <tr style=\"text-align: right;\">\n",
       "      <th></th>\n",
       "      <th>season</th>\n",
       "      <th>weather</th>\n",
       "      <th>temp</th>\n",
       "      <th>atemp</th>\n",
       "      <th>humidity</th>\n",
       "      <th>year</th>\n",
       "      <th>hour</th>\n",
       "      <th>dayofweek</th>\n",
       "      <th>holiday</th>\n",
       "      <th>workingday</th>\n",
       "    </tr>\n",
       "  </thead>\n",
       "  <tbody>\n",
       "    <tr>\n",
       "      <th>0</th>\n",
       "      <td>1</td>\n",
       "      <td>1</td>\n",
       "      <td>10.66</td>\n",
       "      <td>11.365</td>\n",
       "      <td>56</td>\n",
       "      <td>2011</td>\n",
       "      <td>0</td>\n",
       "      <td>3</td>\n",
       "      <td>0</td>\n",
       "      <td>1</td>\n",
       "    </tr>\n",
       "    <tr>\n",
       "      <th>1</th>\n",
       "      <td>1</td>\n",
       "      <td>1</td>\n",
       "      <td>10.66</td>\n",
       "      <td>13.635</td>\n",
       "      <td>56</td>\n",
       "      <td>2011</td>\n",
       "      <td>1</td>\n",
       "      <td>3</td>\n",
       "      <td>0</td>\n",
       "      <td>1</td>\n",
       "    </tr>\n",
       "    <tr>\n",
       "      <th>2</th>\n",
       "      <td>1</td>\n",
       "      <td>1</td>\n",
       "      <td>10.66</td>\n",
       "      <td>13.635</td>\n",
       "      <td>56</td>\n",
       "      <td>2011</td>\n",
       "      <td>2</td>\n",
       "      <td>3</td>\n",
       "      <td>0</td>\n",
       "      <td>1</td>\n",
       "    </tr>\n",
       "    <tr>\n",
       "      <th>3</th>\n",
       "      <td>1</td>\n",
       "      <td>1</td>\n",
       "      <td>10.66</td>\n",
       "      <td>12.880</td>\n",
       "      <td>56</td>\n",
       "      <td>2011</td>\n",
       "      <td>3</td>\n",
       "      <td>3</td>\n",
       "      <td>0</td>\n",
       "      <td>1</td>\n",
       "    </tr>\n",
       "    <tr>\n",
       "      <th>4</th>\n",
       "      <td>1</td>\n",
       "      <td>1</td>\n",
       "      <td>10.66</td>\n",
       "      <td>12.880</td>\n",
       "      <td>56</td>\n",
       "      <td>2011</td>\n",
       "      <td>4</td>\n",
       "      <td>3</td>\n",
       "      <td>0</td>\n",
       "      <td>1</td>\n",
       "    </tr>\n",
       "  </tbody>\n",
       "</table>\n",
       "</div>"
      ],
      "text/plain": [
       "   season  weather   temp   atemp  humidity  year  hour  dayofweek  holiday  \\\n",
       "0       1        1  10.66  11.365        56  2011     0          3        0   \n",
       "1       1        1  10.66  13.635        56  2011     1          3        0   \n",
       "2       1        1  10.66  13.635        56  2011     2          3        0   \n",
       "3       1        1  10.66  12.880        56  2011     3          3        0   \n",
       "4       1        1  10.66  12.880        56  2011     4          3        0   \n",
       "\n",
       "   workingday  \n",
       "0           1  \n",
       "1           1  \n",
       "2           1  \n",
       "3           1  \n",
       "4           1  "
      ]
     },
     "execution_count": 9,
     "metadata": {},
     "output_type": "execute_result"
    }
   ],
   "source": [
    "X_test = test[feature_names]\n",
    "\n",
    "print(X_test.shape)\n",
    "X_test.head()"
   ]
  },
  {
   "cell_type": "code",
   "execution_count": 10,
   "metadata": {
    "execution": {
     "iopub.execute_input": "2021-01-07T01:11:13.203593Z",
     "iopub.status.busy": "2021-01-07T01:11:13.202895Z",
     "iopub.status.idle": "2021-01-07T01:11:13.208546Z",
     "shell.execute_reply": "2021-01-07T01:11:13.207960Z"
    },
    "papermill": {
     "duration": 0.035761,
     "end_time": "2021-01-07T01:11:13.208664",
     "exception": false,
     "start_time": "2021-01-07T01:11:13.172903",
     "status": "completed"
    },
    "tags": []
   },
   "outputs": [
    {
     "name": "stdout",
     "output_type": "stream",
     "text": [
      "(10886,)\n"
     ]
    },
    {
     "data": {
      "text/plain": [
       "0    16\n",
       "1    40\n",
       "2    32\n",
       "3    13\n",
       "4     1\n",
       "Name: count, dtype: int64"
      ]
     },
     "execution_count": 10,
     "metadata": {},
     "output_type": "execute_result"
    }
   ],
   "source": [
    "label_name = \"count\"\n",
    "\n",
    "y_train = train[label_name]\n",
    "\n",
    "print(y_train.shape)\n",
    "y_train.head()"
   ]
  },
  {
   "cell_type": "code",
   "execution_count": 11,
   "metadata": {
    "execution": {
     "iopub.execute_input": "2021-01-07T01:11:13.268135Z",
     "iopub.status.busy": "2021-01-07T01:11:13.267304Z",
     "iopub.status.idle": "2021-01-07T01:11:13.270593Z",
     "shell.execute_reply": "2021-01-07T01:11:13.271092Z"
    },
    "papermill": {
     "duration": 0.039379,
     "end_time": "2021-01-07T01:11:13.271241",
     "exception": false,
     "start_time": "2021-01-07T01:11:13.231862",
     "status": "completed"
    },
    "tags": []
   },
   "outputs": [],
   "source": [
    "from sklearn.metrics import make_scorer\n",
    "\n",
    "def rmsle(predicted_values, actual_values, convertExp=True):\n",
    "\n",
    "    if convertExp:\n",
    "        predicted_values = np.exp(predicted_values),\n",
    "        actual_values = np.exp(actual_values)\n",
    "        \n",
    "    # 넘파이로 배열 형태로 바꿔준다.\n",
    "    predicted_values = np.array(predicted_values)\n",
    "    actual_values = np.array(actual_values)\n",
    "    \n",
    "    # 예측값과 실제 값에 1을 더하고 로그를 씌워준다.\n",
    "    # 값이 0일 수도 있어서 로그를 취했을 때 마이너스 무한대가 될 수도 있기 때문에 1을 더해 줌\n",
    "    # 로그를 씌워주는 것은 정규분포로 만들어주기 위해\n",
    "    log_predict = np.log(predicted_values + 1)\n",
    "    log_actual = np.log(actual_values + 1)\n",
    "    \n",
    "    # 위에서 계산한 예측값에서 실제값을 빼주고 제곱을 해준다.\n",
    "    difference = log_predict - log_actual\n",
    "    difference = np.square(difference)\n",
    "    \n",
    "    # 평균을 낸다.\n",
    "    mean_difference = difference.mean()\n",
    "    \n",
    "    # 다시 루트를 씌운다.\n",
    "    score = np.sqrt(mean_difference)\n",
    "    \n",
    "    return score"
   ]
  },
  {
   "cell_type": "markdown",
   "metadata": {
    "papermill": {
     "duration": 0.025155,
     "end_time": "2021-01-07T01:11:13.320205",
     "exception": false,
     "start_time": "2021-01-07T01:11:13.295050",
     "status": "completed"
    },
    "tags": []
   },
   "source": [
    "# 선형회귀 모델 Linear Regression Model"
   ]
  },
  {
   "cell_type": "markdown",
   "metadata": {
    "papermill": {
     "duration": 0.023675,
     "end_time": "2021-01-07T01:11:13.368605",
     "exception": false,
     "start_time": "2021-01-07T01:11:13.344930",
     "status": "completed"
    },
    "tags": []
   },
   "source": [
    "- 선형회귀 또는 최소제곱법은 가장 간단하고 오래된 회귀용 선형 알고리즘\n",
    "- 선형회귀는 예측과 훈련 세트에 있는 타깃 y사이의 평균제곱오차(MSE)를 최소화하는 파라미터 w와 b를 찾는다.\n",
    "- 매개변수가 없는 것이 장점이지만, 모델의 복잡도를 제어할 수 없다는 단점이 있다.\n",
    "- 파란선이 선형회귀 모델을 나타내고 빨간점들이 훈련데이터를 나타낸다."
   ]
  },
  {
   "cell_type": "code",
   "execution_count": 12,
   "metadata": {
    "execution": {
     "iopub.execute_input": "2021-01-07T01:11:13.419812Z",
     "iopub.status.busy": "2021-01-07T01:11:13.419006Z",
     "iopub.status.idle": "2021-01-07T01:11:13.683147Z",
     "shell.execute_reply": "2021-01-07T01:11:13.683647Z"
    },
    "papermill": {
     "duration": 0.291604,
     "end_time": "2021-01-07T01:11:13.683853",
     "exception": false,
     "start_time": "2021-01-07T01:11:13.392249",
     "status": "completed"
    },
    "tags": []
   },
   "outputs": [
    {
     "name": "stdout",
     "output_type": "stream",
     "text": [
      "RMSLE Value For Linear Regression:  0.9803697923313504\n"
     ]
    }
   ],
   "source": [
    "from sklearn.linear_model import LinearRegression, Ridge, Lasso\n",
    "from sklearn.model_selection import GridSearchCV\n",
    "from sklearn import metrics\n",
    "import warnings\n",
    "pd.options.mode.chained_assignment = None\n",
    "warnings.filterwarnings(\"ignore\", category=DeprecationWarning)\n",
    "\n",
    "# 선형회귀 모델을 초기화\n",
    "lModel = LinearRegression()\n",
    "\n",
    "# 모델을 학습시킨다.\n",
    "y_train_log = np.log1p(y_train)\n",
    "lModel.fit(X_train, y_train_log)\n",
    "\n",
    "# 예측하고 정확도를 평가한다.\n",
    "preds = lModel.predict(X_train)\n",
    "print (\"RMSLE Value For Linear Regression: \",\n",
    "       rmsle(np.exp(y_train_log),np.exp(preds), False))"
   ]
  },
  {
   "cell_type": "markdown",
   "metadata": {
    "papermill": {
     "duration": 0.023636,
     "end_time": "2021-01-07T01:11:13.731562",
     "exception": false,
     "start_time": "2021-01-07T01:11:13.707926",
     "status": "completed"
    },
    "tags": []
   },
   "source": [
    "# 릿지 Regularization Model - Ridge"
   ]
  },
  {
   "cell_type": "markdown",
   "metadata": {
    "papermill": {
     "duration": 0.024065,
     "end_time": "2021-01-07T01:11:13.779915",
     "exception": false,
     "start_time": "2021-01-07T01:11:13.755850",
     "status": "completed"
    },
    "tags": []
   },
   "source": [
    "- 회귀를 위한 선형모델\n",
    "- 가중치의 모든 원소가 0에 가깝게 만들어 모든 피처가 주는 영향을 최소하\n",
    "- 정규화는 오버피팅이 되지 않도록 모델을 강제로 제한한다는 의미\n",
    "- max_iter(반복 실행하는 최대 횟수)는 3000을 넣어주었다."
   ]
  },
  {
   "cell_type": "code",
   "execution_count": 13,
   "metadata": {
    "execution": {
     "iopub.execute_input": "2021-01-07T01:11:13.839034Z",
     "iopub.status.busy": "2021-01-07T01:11:13.837740Z",
     "iopub.status.idle": "2021-01-07T01:11:14.556629Z",
     "shell.execute_reply": "2021-01-07T01:11:14.555450Z"
    },
    "papermill": {
     "duration": 0.752332,
     "end_time": "2021-01-07T01:11:14.556813",
     "exception": false,
     "start_time": "2021-01-07T01:11:13.804481",
     "status": "completed"
    },
    "tags": []
   },
   "outputs": [
    {
     "name": "stdout",
     "output_type": "stream",
     "text": [
      "{'alpha': 0.01, 'max_iter': 3000}\n",
      "RMSLE Value For Ridge Regression:  0.9803697902780806\n"
     ]
    }
   ],
   "source": [
    "ridge_m_ = Ridge()\n",
    "ridge_params_ = { 'max_iter':[3000],'alpha':[0.01, 0.1, 1, 2, 3, 4, 10, 30,100,200,300,400,800,900,1000]}\n",
    "rmsle_scorer = metrics.make_scorer(rmsle, greater_is_better=False)\n",
    "grid_ridge_m = GridSearchCV(ridge_m_,\n",
    "                          ridge_params_,\n",
    "                          scoring = rmsle_scorer,\n",
    "                          cv=5)\n",
    "\n",
    "y_train_log = np.log1p(y_train)\n",
    "grid_ridge_m.fit( X_train, y_train_log )\n",
    "preds = grid_ridge_m.predict(X_train)\n",
    "print (grid_ridge_m.best_params_)\n",
    "print (\"RMSLE Value For Ridge Regression: \", rmsle(np.exp(y_train_log),np.exp(preds), False))"
   ]
  },
  {
   "cell_type": "markdown",
   "metadata": {
    "papermill": {
     "duration": 0.02371,
     "end_time": "2021-01-07T01:11:14.608518",
     "exception": false,
     "start_time": "2021-01-07T01:11:14.584808",
     "status": "completed"
    },
    "tags": []
   },
   "source": [
    "# 라쏘 Regularization Model - Lasso"
   ]
  },
  {
   "cell_type": "markdown",
   "metadata": {
    "papermill": {
     "duration": 0.02377,
     "end_time": "2021-01-07T01:11:14.657114",
     "exception": false,
     "start_time": "2021-01-07T01:11:14.633344",
     "status": "completed"
    },
    "tags": []
   },
   "source": [
    "- 선형회귀의 Regularization(규제)을 적용하는 대안\n",
    "- 계수를 0에 가깝게 만들려고 하며 이를 L1 규제라고 하며, 어떤 계수는 0이 되기도 하는데 이는 완전히 제외하는 피처가 생긴다는 의미다.\n",
    "- 피처 선택이 자동으로 이루어진다고도 볼 수 있다.\n",
    "- alpha 값의 기본값은 1.0이며, 과소 적합을 줄이기 위해서는 이 값을 줄여야 한다.\n",
    "- 그리드 서치로 아래 라쏘모델을 실행했을 때 베스트 알파 값은 0.0025\n",
    "- max_iter(반복 실행하는 최대 횟수)는 3000을 넣어주었다."
   ]
  },
  {
   "cell_type": "code",
   "execution_count": 14,
   "metadata": {
    "execution": {
     "iopub.execute_input": "2021-01-07T01:11:14.714696Z",
     "iopub.status.busy": "2021-01-07T01:11:14.714030Z",
     "iopub.status.idle": "2021-01-07T01:11:16.023640Z",
     "shell.execute_reply": "2021-01-07T01:11:16.022879Z"
    },
    "papermill": {
     "duration": 1.342647,
     "end_time": "2021-01-07T01:11:16.023804",
     "exception": false,
     "start_time": "2021-01-07T01:11:14.681157",
     "status": "completed"
    },
    "tags": []
   },
   "outputs": [
    {
     "name": "stdout",
     "output_type": "stream",
     "text": [
      "{'alpha': 0.00125, 'max_iter': 3000}\n",
      "RMSLE Value For Lasso Regression:  0.9803727821457643\n"
     ]
    }
   ],
   "source": [
    "lasso_m_ = Lasso()\n",
    "\n",
    "alpha  = 1/np.array([0.1, 1, 2, 3, 4, 10, 30,100,200,300,400,800,900,1000])\n",
    "lasso_params_ = { 'max_iter':[3000],'alpha':alpha}\n",
    "\n",
    "grid_lasso_m = GridSearchCV( lasso_m_,lasso_params_,scoring = rmsle_scorer,cv=5)\n",
    "y_train_log = np.log1p(y_train)\n",
    "grid_lasso_m.fit( X_train , y_train_log )\n",
    "preds = grid_lasso_m.predict(X_train)\n",
    "print (grid_lasso_m.best_params_)\n",
    "print (\"RMSLE Value For Lasso Regression: \",rmsle(np.exp(y_train_log),np.exp(preds),False))"
   ]
  },
  {
   "cell_type": "markdown",
   "metadata": {
    "papermill": {
     "duration": 0.0298,
     "end_time": "2021-01-07T01:11:16.085363",
     "exception": false,
     "start_time": "2021-01-07T01:11:16.055563",
     "status": "completed"
    },
    "tags": []
   },
   "source": [
    "# 앙상블모델 - 랜덤 포레스트"
   ]
  },
  {
   "cell_type": "code",
   "execution_count": 15,
   "metadata": {
    "execution": {
     "iopub.execute_input": "2021-01-07T01:11:16.142696Z",
     "iopub.status.busy": "2021-01-07T01:11:16.141377Z",
     "iopub.status.idle": "2021-01-07T01:11:20.074528Z",
     "shell.execute_reply": "2021-01-07T01:11:20.073871Z"
    },
    "papermill": {
     "duration": 3.964292,
     "end_time": "2021-01-07T01:11:20.074646",
     "exception": false,
     "start_time": "2021-01-07T01:11:16.110354",
     "status": "completed"
    },
    "tags": []
   },
   "outputs": [
    {
     "name": "stdout",
     "output_type": "stream",
     "text": [
      "RMSLE Value For Random Forest:  0.10639292197359623\n"
     ]
    }
   ],
   "source": [
    "from sklearn.ensemble import RandomForestRegressor\n",
    "rfModel = RandomForestRegressor(n_estimators=100)\n",
    "\n",
    "y_train_log = np.log1p(y_train)\n",
    "rfModel.fit(X_train, y_train_log)\n",
    "\n",
    "preds = rfModel.predict(X_train)\n",
    "score = rmsle(np.exp(y_train_log),np.exp(preds),False)\n",
    "print (\"RMSLE Value For Random Forest: \",score)"
   ]
  },
  {
   "cell_type": "markdown",
   "metadata": {
    "papermill": {
     "duration": 0.024638,
     "end_time": "2021-01-07T01:11:20.124624",
     "exception": false,
     "start_time": "2021-01-07T01:11:20.099986",
     "status": "completed"
    },
    "tags": []
   },
   "source": [
    "# 앙상블모델 - 그래디언트 부스트"
   ]
  },
  {
   "cell_type": "markdown",
   "metadata": {
    "papermill": {
     "duration": 0.025476,
     "end_time": "2021-01-07T01:11:20.175266",
     "exception": false,
     "start_time": "2021-01-07T01:11:20.149790",
     "status": "completed"
    },
    "tags": []
   },
   "source": [
    "- 여러 개의 결정 트리를 묶어 강력한 모델을 만드는 또 다른 앙상블 기법\n",
    "- 회귀와 분류에 모두 사용할 수 있다.\n",
    "- 랜덤포레스트와 달리 이진 트리의 오차를 보완하는 방식으로 순차적으로 트리를 만든다.\n",
    "- 무작위성이 없고 강력한 사전 가지치기가 사용됨\n",
    "- 1~5개의 깊지 않은 트리를 사용하기 때문에 메모리를 적게 사용하고 예측이 빠름\n",
    "- learning_rate : 오차를 얼마나 강하게 보정할 것인지를 제어\n",
    "- n_estimator의 값을 키우면 앙상블에 트리가 더 많이 추가되어 모델의 복잡도가 커지고 훈련 세트에서의 실수를 바로잡을 기회가 많아지지만, 너무 크면 모델이 복잡해지고 오버피팅(과대적합)이 될 수 있다.\n",
    "- maxdepth (maxleaf_nodes) 복잡도를 너무 높이지 말고 트리의 깊이가 5보다 깊어지지 않게 한다."
   ]
  },
  {
   "cell_type": "code",
   "execution_count": 16,
   "metadata": {
    "execution": {
     "iopub.execute_input": "2021-01-07T01:11:20.236317Z",
     "iopub.status.busy": "2021-01-07T01:11:20.233220Z",
     "iopub.status.idle": "2021-01-07T01:11:55.324732Z",
     "shell.execute_reply": "2021-01-07T01:11:55.325333Z"
    },
    "papermill": {
     "duration": 35.124393,
     "end_time": "2021-01-07T01:11:55.325481",
     "exception": false,
     "start_time": "2021-01-07T01:11:20.201088",
     "status": "completed"
    },
    "tags": []
   },
   "outputs": [
    {
     "name": "stdout",
     "output_type": "stream",
     "text": [
      "RMSLE Value For Gradient Boost:  0.21357403727840335\n"
     ]
    }
   ],
   "source": [
    "from sklearn.ensemble import GradientBoostingRegressor\n",
    "gbm = GradientBoostingRegressor(n_estimators=4000, alpha=0.01);\n",
    "\n",
    "y_train_log = np.log1p(y_train)\n",
    "gbm.fit(X_train, y_train_log)\n",
    "\n",
    "preds = gbm.predict(X_train)\n",
    "score = rmsle(np.exp(y_train_log),np.exp(preds),False)\n",
    "print (\"RMSLE Value For Gradient Boost: \", score)"
   ]
  },
  {
   "cell_type": "code",
   "execution_count": 17,
   "metadata": {
    "execution": {
     "iopub.execute_input": "2021-01-07T01:11:55.385815Z",
     "iopub.status.busy": "2021-01-07T01:11:55.385095Z",
     "iopub.status.idle": "2021-01-07T01:11:56.221243Z",
     "shell.execute_reply": "2021-01-07T01:11:56.220642Z"
    },
    "papermill": {
     "duration": 0.870205,
     "end_time": "2021-01-07T01:11:56.221366",
     "exception": false,
     "start_time": "2021-01-07T01:11:55.351161",
     "status": "completed"
    },
    "tags": []
   },
   "outputs": [
    {
     "data": {
      "text/plain": [
       "<matplotlib.axes._subplots.AxesSubplot at 0x7ff5e96a5390>"
      ]
     },
     "execution_count": 17,
     "metadata": {},
     "output_type": "execute_result"
    },
    {
     "data": {
      "image/png": "[encoded data removed]",
      "text/plain": [
       "<Figure size 864x360 with 2 Axes>"
      ]
     },
     "metadata": {},
     "output_type": "display_data"
    }
   ],
   "source": [
    "predsTest = gbm.predict(X_test)\n",
    "fig,(ax1,ax2)= plt.subplots(ncols=2)\n",
    "fig.set_size_inches(12,5)\n",
    "sns.distplot(y_train,ax=ax1,bins=50)\n",
    "sns.distplot(np.exp(predsTest),ax=ax2,bins=50)"
   ]
  },
  {
   "cell_type": "markdown",
   "metadata": {
    "papermill": {
     "duration": 0.027163,
     "end_time": "2021-01-07T01:11:56.275967",
     "exception": false,
     "start_time": "2021-01-07T01:11:56.248804",
     "status": "completed"
    },
    "tags": []
   },
   "source": [
    "# Submit"
   ]
  },
  {
   "cell_type": "code",
   "execution_count": 18,
   "metadata": {
    "execution": {
     "iopub.execute_input": "2021-01-07T01:11:56.340969Z",
     "iopub.status.busy": "2021-01-07T01:11:56.340231Z",
     "iopub.status.idle": "2021-01-07T01:11:56.368353Z",
     "shell.execute_reply": "2021-01-07T01:11:56.367809Z"
    },
    "papermill": {
     "duration": 0.065255,
     "end_time": "2021-01-07T01:11:56.368471",
     "exception": false,
     "start_time": "2021-01-07T01:11:56.303216",
     "status": "completed"
    },
    "tags": []
   },
   "outputs": [
    {
     "name": "stdout",
     "output_type": "stream",
     "text": [
      "(6493, 2)\n"
     ]
    },
    {
     "data": {
      "text/html": [
       "<div>\n",
       "<style scoped>\n",
       "    .dataframe tbody tr th:only-of-type {\n",
       "        vertical-align: middle;\n",
       "    }\n",
       "\n",
       "    .dataframe tbody tr th {\n",
       "        vertical-align: top;\n",
       "    }\n",
       "\n",
       "    .dataframe thead th {\n",
       "        text-align: right;\n",
       "    }\n",
       "</style>\n",
       "<table border=\"1\" class=\"dataframe\">\n",
       "  <thead>\n",
       "    <tr style=\"text-align: right;\">\n",
       "      <th></th>\n",
       "      <th>datetime</th>\n",
       "      <th>count</th>\n",
       "    </tr>\n",
       "  </thead>\n",
       "  <tbody>\n",
       "    <tr>\n",
       "      <th>0</th>\n",
       "      <td>2011-01-20 00:00:00</td>\n",
       "      <td>11.227543</td>\n",
       "    </tr>\n",
       "    <tr>\n",
       "      <th>1</th>\n",
       "      <td>2011-01-20 01:00:00</td>\n",
       "      <td>6.296610</td>\n",
       "    </tr>\n",
       "    <tr>\n",
       "      <th>2</th>\n",
       "      <td>2011-01-20 02:00:00</td>\n",
       "      <td>4.259238</td>\n",
       "    </tr>\n",
       "    <tr>\n",
       "      <th>3</th>\n",
       "      <td>2011-01-20 03:00:00</td>\n",
       "      <td>2.666615</td>\n",
       "    </tr>\n",
       "    <tr>\n",
       "      <th>4</th>\n",
       "      <td>2011-01-20 04:00:00</td>\n",
       "      <td>2.295918</td>\n",
       "    </tr>\n",
       "  </tbody>\n",
       "</table>\n",
       "</div>"
      ],
      "text/plain": [
       "              datetime      count\n",
       "0  2011-01-20 00:00:00  11.227543\n",
       "1  2011-01-20 01:00:00   6.296610\n",
       "2  2011-01-20 02:00:00   4.259238\n",
       "3  2011-01-20 03:00:00   2.666615\n",
       "4  2011-01-20 04:00:00   2.295918"
      ]
     },
     "execution_count": 18,
     "metadata": {},
     "output_type": "execute_result"
    }
   ],
   "source": [
    "submission = pd.read_csv(\"../input/bike-sharing-demand/sampleSubmission.csv\")\n",
    "submission\n",
    "\n",
    "submission[\"count\"] = np.exp(predsTest)\n",
    "\n",
    "print(submission.shape)\n",
    "submission.head()"
   ]
  },
  {
   "cell_type": "code",
   "execution_count": 19,
   "metadata": {
    "execution": {
     "iopub.execute_input": "2021-01-07T01:11:56.430721Z",
     "iopub.status.busy": "2021-01-07T01:11:56.430027Z",
     "iopub.status.idle": "2021-01-07T01:11:56.776714Z",
     "shell.execute_reply": "2021-01-07T01:11:56.777372Z"
    },
    "papermill": {
     "duration": 0.380722,
     "end_time": "2021-01-07T01:11:56.777529",
     "exception": false,
     "start_time": "2021-01-07T01:11:56.396807",
     "status": "completed"
    },
    "tags": []
   },
   "outputs": [],
   "source": [
    "submission.to_csv(\"./Score_{0:.5f}_submission.csv\".format(score), index=False)"
   ]
  }
 ],
 "metadata": {
  "kernelspec": {
   "display_name": "Python 3",
   "language": "python",
   "name": "python3"
  },
  "language_info": {
   "codemirror_mode": {
    "name": "ipython",
    "version": 3
   },
   "file_extension": ".py",
   "mimetype": "text/x-python",
   "name": "python",
   "nbconvert_exporter": "python",
   "pygments_lexer": "ipython3",
   "version": "3.7.6"
  },
  "papermill": {
   "duration": 51.055603,
   "end_time": "2021-01-07T01:11:56.914085",
   "environment_variables": {},
   "exception": null,
   "input_path": "__notebook__.ipynb",
   "output_path": "__notebook__.ipynb",
   "parameters": {},
   "start_time": "2021-01-07T01:11:05.858482",
   "version": "2.1.0"
  }
 },
 "nbformat": 4,
 "nbformat_minor": 4
}
